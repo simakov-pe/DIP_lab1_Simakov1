{
  "nbformat": 4,
  "nbformat_minor": 0,
  "metadata": {
    "colab": {
      "provenance": [],
      "toc_visible": true
    },
    "kernelspec": {
      "name": "python3",
      "display_name": "Python 3"
    },
    "language_info": {
      "name": "python"
    }
  },
  "cells": [
    {
      "cell_type": "markdown",
      "source": [
        "Create a vector, scalar, matrix and tensor with values of your choosing using tf.constant()."
      ],
      "metadata": {
        "id": "iscPPepg3Xy4"
      }
    },
    {
      "cell_type": "markdown",
      "source": [
        "Find the shape, rank and size of the tensors you created in 1."
      ],
      "metadata": {
        "id": "4a6dlAmX3gFZ"
      }
    },
    {
      "cell_type": "code",
      "source": [
        "import tensorflow as tf\n",
        "import numpy as np\n",
        "\n",
        "scalar = tf.constant(5)\n",
        "scalar"
      ],
      "metadata": {
        "colab": {
          "base_uri": "https://localhost:8080/"
        },
        "id": "0nrKaFe03hrR",
        "outputId": "4692c9fd-f6ff-40f6-c4b3-107ab845ce1a"
      },
      "execution_count": 1,
      "outputs": [
        {
          "output_type": "execute_result",
          "data": {
            "text/plain": [
              "<tf.Tensor: shape=(), dtype=int32, numpy=5>"
            ]
          },
          "metadata": {},
          "execution_count": 1
        }
      ]
    },
    {
      "cell_type": "code",
      "source": [
        "vector = tf.constant([10, 20])\n",
        "vector"
      ],
      "metadata": {
        "colab": {
          "base_uri": "https://localhost:8080/"
        },
        "id": "COjpOfTN4IH1",
        "outputId": "7d89c539-0f18-405e-c457-d667a9d9c004"
      },
      "execution_count": 2,
      "outputs": [
        {
          "output_type": "execute_result",
          "data": {
            "text/plain": [
              "<tf.Tensor: shape=(2,), dtype=int32, numpy=array([10, 20], dtype=int32)>"
            ]
          },
          "metadata": {},
          "execution_count": 2
        }
      ]
    },
    {
      "cell_type": "code",
      "source": [
        "matrix = tf.constant([[10, 10],\n",
        "                     [10, 10]])\n",
        "matrix"
      ],
      "metadata": {
        "colab": {
          "base_uri": "https://localhost:8080/"
        },
        "id": "hPkPdSlu44VM",
        "outputId": "08716973-3601-4721-8bcb-87339e9f3e89"
      },
      "execution_count": 4,
      "outputs": [
        {
          "output_type": "execute_result",
          "data": {
            "text/plain": [
              "<tf.Tensor: shape=(2, 2), dtype=int32, numpy=\n",
              "array([[10, 10],\n",
              "       [10, 10]], dtype=int32)>"
            ]
          },
          "metadata": {},
          "execution_count": 4
        }
      ]
    },
    {
      "cell_type": "code",
      "source": [
        "tensor = tf.constant([\n",
        "    [[1, 2], [1, 2]],\n",
        "    [[4, 5], [5, 6]]])\n",
        "tensor\n"
      ],
      "metadata": {
        "colab": {
          "base_uri": "https://localhost:8080/"
        },
        "id": "SUwqIETu5Pdm",
        "outputId": "f6d2bea8-a757-4c5b-82fa-3a7efc24e292"
      },
      "execution_count": 7,
      "outputs": [
        {
          "output_type": "execute_result",
          "data": {
            "text/plain": [
              "<tf.Tensor: shape=(2, 2, 2), dtype=int32, numpy=\n",
              "array([[[1, 2],\n",
              "        [1, 2]],\n",
              "\n",
              "       [[4, 5],\n",
              "        [5, 6]]], dtype=int32)>"
            ]
          },
          "metadata": {},
          "execution_count": 7
        }
      ]
    },
    {
      "cell_type": "markdown",
      "source": [
        "Create two tensors containing random values between 0 and 1 with shape [5, 300].\n",
        "Multiply the two tensors you created in 3 using matrix multiplication.\n",
        "Multiply the two tensors you created in 3 using dot product."
      ],
      "metadata": {
        "id": "MjuIV3UD51yT"
      }
    },
    {
      "cell_type": "code",
      "source": [
        "tensor1 = tf.random.uniform(shape=[5, 300])\n",
        "tensor2 = tf.random.uniform(shape=[5, 300])\n",
        "tf.matmul(tf.transpose(tensor1), tensor2)\n",
        "tf.tensordot(tf.transpose(tensor1), tensor2, axes=1)"
      ],
      "metadata": {
        "colab": {
          "base_uri": "https://localhost:8080/"
        },
        "id": "sIpz-Pyk6M7f",
        "outputId": "374dc825-2bf0-4d65-c501-f38a8dda6c6f"
      },
      "execution_count": 8,
      "outputs": [
        {
          "output_type": "execute_result",
          "data": {
            "text/plain": [
              "<tf.Tensor: shape=(300, 300), dtype=float32, numpy=\n",
              "array([[2.050677  , 1.7533675 , 1.546669  , ..., 1.4183288 , 1.9549133 ,\n",
              "        1.647928  ],\n",
              "       [2.0709748 , 1.2786198 , 1.4593939 , ..., 1.3536068 , 1.6180488 ,\n",
              "        0.9211316 ],\n",
              "       [0.8137279 , 0.7279152 , 0.68913037, ..., 0.46476108, 0.67098933,\n",
              "        0.6758403 ],\n",
              "       ...,\n",
              "       [1.5654805 , 1.2949961 , 1.040189  , ..., 1.2818546 , 1.5455797 ,\n",
              "        1.6143122 ],\n",
              "       [1.1175454 , 1.1495335 , 1.0574149 , ..., 0.45807755, 1.1471132 ,\n",
              "        0.3851225 ],\n",
              "       [1.1458708 , 0.98352045, 0.8671541 , ..., 0.62139213, 1.0765972 ,\n",
              "        0.6618996 ]], dtype=float32)>"
            ]
          },
          "metadata": {},
          "execution_count": 8
        }
      ]
    },
    {
      "cell_type": "markdown",
      "source": [
        "Create a tensor with random values between 0 and 1 with shape [224, 224, 3]."
      ],
      "metadata": {
        "id": "8q7sZsph6zuX"
      }
    },
    {
      "cell_type": "code",
      "source": [
        "tensor3 = tf.random.uniform(shape=[224, 224, 3])"
      ],
      "metadata": {
        "id": "p4EuC-hc61s5"
      },
      "execution_count": 9,
      "outputs": []
    },
    {
      "cell_type": "markdown",
      "source": [
        "Find the min and max values of the tensor you created in 6 along the first axis."
      ],
      "metadata": {
        "id": "j_xVWs8m7Sn5"
      }
    },
    {
      "cell_type": "code",
      "source": [
        "min = tf.reduce_min(tensor3).numpy()\n",
        "min"
      ],
      "metadata": {
        "colab": {
          "base_uri": "https://localhost:8080/"
        },
        "id": "EkVBDrEL7VPG",
        "outputId": "e6d74e70-a335-4f65-820e-f834d98923f5"
      },
      "execution_count": 12,
      "outputs": [
        {
          "output_type": "execute_result",
          "data": {
            "text/plain": [
              "1.2755394e-05"
            ]
          },
          "metadata": {},
          "execution_count": 12
        }
      ]
    },
    {
      "cell_type": "code",
      "source": [
        "max = tf.reduce_max(tensor3).numpy()\n",
        "max"
      ],
      "metadata": {
        "colab": {
          "base_uri": "https://localhost:8080/"
        },
        "id": "HqSxe5CU7t0r",
        "outputId": "1af63eab-0154-404f-d16b-15b5d347831e"
      },
      "execution_count": 13,
      "outputs": [
        {
          "output_type": "execute_result",
          "data": {
            "text/plain": [
              "0.99999726"
            ]
          },
          "metadata": {},
          "execution_count": 13
        }
      ]
    },
    {
      "cell_type": "markdown",
      "source": [
        "Created a tensor with random values of shape [1, 224, 224, 3] then squeeze it to change the shape to [224, 224, 3]."
      ],
      "metadata": {
        "id": "SlnbnrsE7xYK"
      }
    },
    {
      "cell_type": "code",
      "source": [
        "tensor4 = tf.random.uniform(shape=[1, 224, 224, 3])\n",
        "squeezed4 = tf.squeeze(tensor4)"
      ],
      "metadata": {
        "id": "Px0jxcMM7yeP"
      },
      "execution_count": 14,
      "outputs": []
    },
    {
      "cell_type": "markdown",
      "source": [
        "Create a tensor with shape [10] using your own choice of values, then find the index which has the maximum value."
      ],
      "metadata": {
        "id": "JUajMng38GG-"
      }
    },
    {
      "cell_type": "code",
      "source": [
        "tens = random_tensor = tf.random.uniform(shape=[10], minval=0, maxval=100, dtype=tf.int32)\n",
        "max = tf.argmax(tens).numpy()\n",
        "max"
      ],
      "metadata": {
        "colab": {
          "base_uri": "https://localhost:8080/"
        },
        "id": "1t0ePCCH8IsR",
        "outputId": "02f2f49f-41d9-4add-f61d-3438f0136f8a"
      },
      "execution_count": 21,
      "outputs": [
        {
          "output_type": "execute_result",
          "data": {
            "text/plain": [
              "9"
            ]
          },
          "metadata": {},
          "execution_count": 21
        }
      ]
    },
    {
      "cell_type": "markdown",
      "source": [
        "One-hot encode the tensor you created in 9."
      ],
      "metadata": {
        "id": "VWAEk2iO-cUe"
      }
    },
    {
      "cell_type": "code",
      "source": [
        "num = len(tf.unique(tens)[0])\n",
        "tensonehot = tf.one_hot(indices=tens, depth=num)\n",
        "tensonehot"
      ],
      "metadata": {
        "colab": {
          "base_uri": "https://localhost:8080/"
        },
        "id": "abOlmoDN-e0T",
        "outputId": "bcbba9dd-5f87-4f69-a271-83d82e88c63b"
      },
      "execution_count": 22,
      "outputs": [
        {
          "output_type": "execute_result",
          "data": {
            "text/plain": [
              "<tf.Tensor: shape=(10, 10), dtype=float32, numpy=\n",
              "array([[0., 0., 0., 0., 0., 0., 0., 0., 0., 0.],\n",
              "       [0., 0., 0., 0., 0., 0., 0., 0., 0., 0.],\n",
              "       [0., 0., 0., 0., 0., 0., 0., 0., 0., 0.],\n",
              "       [0., 0., 0., 0., 0., 0., 0., 0., 0., 0.],\n",
              "       [0., 0., 0., 0., 0., 0., 0., 0., 0., 0.],\n",
              "       [0., 0., 0., 0., 0., 0., 0., 0., 0., 0.],\n",
              "       [0., 0., 0., 0., 0., 0., 0., 0., 0., 0.],\n",
              "       [0., 0., 0., 0., 0., 0., 0., 0., 0., 0.],\n",
              "       [0., 0., 0., 0., 0., 0., 0., 0., 0., 0.],\n",
              "       [0., 0., 0., 0., 0., 0., 0., 0., 0., 0.]], dtype=float32)>"
            ]
          },
          "metadata": {},
          "execution_count": 22
        }
      ]
    }
  ]
}